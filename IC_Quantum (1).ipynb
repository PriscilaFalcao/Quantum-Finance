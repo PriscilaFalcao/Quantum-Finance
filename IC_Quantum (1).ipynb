{
  "nbformat": 4,
  "nbformat_minor": 0,
  "metadata": {
    "colab": {
      "provenance": []
    },
    "kernelspec": {
      "name": "python3",
      "display_name": "Python 3"
    },
    "language_info": {
      "name": "python"
    }
  },
  "cells": [
    {
      "cell_type": "code",
      "source": [
        "!pip install qiskit==1.1.0\n",
        "!pip install qiskit-finance\n",
        "!pip install qiskit-aer\n",
        "!pip install qiskit-algorithms"
      ],
      "metadata": {
        "colab": {
          "base_uri": "https://localhost:8080/"
        },
        "id": "YlLjyxewTsY5",
        "outputId": "d3363082-bfe1-4fd8-a6fb-c83634cc2d6c"
      },
      "execution_count": null,
      "outputs": [
        {
          "output_type": "stream",
          "name": "stdout",
          "text": [
            "Requirement already satisfied: qiskit==1.1.0 in /usr/local/lib/python3.11/dist-packages (1.1.0)\n",
            "Requirement already satisfied: rustworkx>=0.14.0 in /usr/local/lib/python3.11/dist-packages (from qiskit==1.1.0) (0.16.0)\n",
            "Requirement already satisfied: numpy<3,>=1.17 in /usr/local/lib/python3.11/dist-packages (from qiskit==1.1.0) (2.0.2)\n",
            "Requirement already satisfied: scipy>=1.5 in /usr/local/lib/python3.11/dist-packages (from qiskit==1.1.0) (1.15.3)\n",
            "Requirement already satisfied: sympy>=1.3 in /usr/local/lib/python3.11/dist-packages (from qiskit==1.1.0) (1.13.1)\n",
            "Requirement already satisfied: dill>=0.3 in /usr/local/lib/python3.11/dist-packages (from qiskit==1.1.0) (0.3.7)\n",
            "Requirement already satisfied: python-dateutil>=2.8.0 in /usr/local/lib/python3.11/dist-packages (from qiskit==1.1.0) (2.9.0.post0)\n",
            "Requirement already satisfied: stevedore>=3.0.0 in /usr/local/lib/python3.11/dist-packages (from qiskit==1.1.0) (5.4.1)\n",
            "Requirement already satisfied: typing-extensions in /usr/local/lib/python3.11/dist-packages (from qiskit==1.1.0) (4.14.0)\n",
            "Requirement already satisfied: symengine>=0.11 in /usr/local/lib/python3.11/dist-packages (from qiskit==1.1.0) (0.13.0)\n",
            "Requirement already satisfied: six>=1.5 in /usr/local/lib/python3.11/dist-packages (from python-dateutil>=2.8.0->qiskit==1.1.0) (1.17.0)\n",
            "Requirement already satisfied: pbr>=2.0.0 in /usr/local/lib/python3.11/dist-packages (from stevedore>=3.0.0->qiskit==1.1.0) (6.1.1)\n",
            "Requirement already satisfied: mpmath<1.4,>=1.1.0 in /usr/local/lib/python3.11/dist-packages (from sympy>=1.3->qiskit==1.1.0) (1.3.0)\n",
            "Requirement already satisfied: setuptools in /usr/local/lib/python3.11/dist-packages (from pbr>=2.0.0->stevedore>=3.0.0->qiskit==1.1.0) (75.2.0)\n",
            "Requirement already satisfied: qiskit-finance in /usr/local/lib/python3.11/dist-packages (0.4.1)\n",
            "Requirement already satisfied: qiskit>=0.45 in /usr/local/lib/python3.11/dist-packages (from qiskit-finance) (1.1.0)\n",
            "Requirement already satisfied: qiskit-algorithms>=0.2.0 in /usr/local/lib/python3.11/dist-packages (from qiskit-finance) (0.3.1)\n",
            "Requirement already satisfied: qiskit-optimization>=0.6.0 in /usr/local/lib/python3.11/dist-packages (from qiskit-finance) (0.6.1)\n",
            "Requirement already satisfied: scipy>=1.4 in /usr/local/lib/python3.11/dist-packages (from qiskit-finance) (1.15.3)\n",
            "Requirement already satisfied: numpy>=1.17 in /usr/local/lib/python3.11/dist-packages (from qiskit-finance) (2.0.2)\n",
            "Requirement already satisfied: psutil>=5 in /usr/local/lib/python3.11/dist-packages (from qiskit-finance) (5.9.5)\n",
            "Requirement already satisfied: fastdtw in /usr/local/lib/python3.11/dist-packages (from qiskit-finance) (0.3.4)\n",
            "Requirement already satisfied: setuptools>=40.1.0 in /usr/local/lib/python3.11/dist-packages (from qiskit-finance) (75.2.0)\n",
            "Requirement already satisfied: pandas in /usr/local/lib/python3.11/dist-packages (from qiskit-finance) (2.2.2)\n",
            "Requirement already satisfied: nasdaq-data-link in /usr/local/lib/python3.11/dist-packages (from qiskit-finance) (1.0.4)\n",
            "Requirement already satisfied: yfinance>=0.1.70 in /usr/local/lib/python3.11/dist-packages (from qiskit-finance) (0.2.62)\n",
            "Requirement already satisfied: certifi in /usr/local/lib/python3.11/dist-packages (from qiskit-finance) (2025.4.26)\n",
            "Requirement already satisfied: urllib3 in /usr/local/lib/python3.11/dist-packages (from qiskit-finance) (2.4.0)\n",
            "Requirement already satisfied: rustworkx>=0.14.0 in /usr/local/lib/python3.11/dist-packages (from qiskit>=0.45->qiskit-finance) (0.16.0)\n",
            "Requirement already satisfied: sympy>=1.3 in /usr/local/lib/python3.11/dist-packages (from qiskit>=0.45->qiskit-finance) (1.13.1)\n",
            "Requirement already satisfied: dill>=0.3 in /usr/local/lib/python3.11/dist-packages (from qiskit>=0.45->qiskit-finance) (0.3.7)\n",
            "Requirement already satisfied: python-dateutil>=2.8.0 in /usr/local/lib/python3.11/dist-packages (from qiskit>=0.45->qiskit-finance) (2.9.0.post0)\n",
            "Requirement already satisfied: stevedore>=3.0.0 in /usr/local/lib/python3.11/dist-packages (from qiskit>=0.45->qiskit-finance) (5.4.1)\n",
            "Requirement already satisfied: typing-extensions in /usr/local/lib/python3.11/dist-packages (from qiskit>=0.45->qiskit-finance) (4.14.0)\n",
            "Requirement already satisfied: symengine>=0.11 in /usr/local/lib/python3.11/dist-packages (from qiskit>=0.45->qiskit-finance) (0.13.0)\n",
            "Requirement already satisfied: docplex!=2.24.231,>=2.21.207 in /usr/local/lib/python3.11/dist-packages (from qiskit-optimization>=0.6.0->qiskit-finance) (2.29.245)\n",
            "Requirement already satisfied: networkx>=2.6.3 in /usr/local/lib/python3.11/dist-packages (from qiskit-optimization>=0.6.0->qiskit-finance) (3.5)\n",
            "Requirement already satisfied: requests>=2.31 in /usr/local/lib/python3.11/dist-packages (from yfinance>=0.1.70->qiskit-finance) (2.32.3)\n",
            "Requirement already satisfied: multitasking>=0.0.7 in /usr/local/lib/python3.11/dist-packages (from yfinance>=0.1.70->qiskit-finance) (0.0.11)\n",
            "Requirement already satisfied: platformdirs>=2.0.0 in /usr/local/lib/python3.11/dist-packages (from yfinance>=0.1.70->qiskit-finance) (4.3.8)\n",
            "Requirement already satisfied: pytz>=2022.5 in /usr/local/lib/python3.11/dist-packages (from yfinance>=0.1.70->qiskit-finance) (2025.2)\n",
            "Requirement already satisfied: frozendict>=2.3.4 in /usr/local/lib/python3.11/dist-packages (from yfinance>=0.1.70->qiskit-finance) (2.4.6)\n",
            "Requirement already satisfied: peewee>=3.16.2 in /usr/local/lib/python3.11/dist-packages (from yfinance>=0.1.70->qiskit-finance) (3.18.1)\n",
            "Requirement already satisfied: beautifulsoup4>=4.11.1 in /usr/local/lib/python3.11/dist-packages (from yfinance>=0.1.70->qiskit-finance) (4.13.4)\n",
            "Requirement already satisfied: curl_cffi>=0.7 in /usr/local/lib/python3.11/dist-packages (from yfinance>=0.1.70->qiskit-finance) (0.11.3)\n",
            "Requirement already satisfied: protobuf>=3.19.0 in /usr/local/lib/python3.11/dist-packages (from yfinance>=0.1.70->qiskit-finance) (5.29.5)\n",
            "Requirement already satisfied: websockets>=13.0 in /usr/local/lib/python3.11/dist-packages (from yfinance>=0.1.70->qiskit-finance) (15.0.1)\n",
            "Requirement already satisfied: tzdata>=2022.7 in /usr/local/lib/python3.11/dist-packages (from pandas->qiskit-finance) (2025.2)\n",
            "Requirement already satisfied: inflection>=0.3.1 in /usr/local/lib/python3.11/dist-packages (from nasdaq-data-link->qiskit-finance) (0.5.1)\n",
            "Requirement already satisfied: six in /usr/local/lib/python3.11/dist-packages (from nasdaq-data-link->qiskit-finance) (1.17.0)\n",
            "Requirement already satisfied: more-itertools in /usr/local/lib/python3.11/dist-packages (from nasdaq-data-link->qiskit-finance) (10.7.0)\n",
            "Requirement already satisfied: soupsieve>1.2 in /usr/local/lib/python3.11/dist-packages (from beautifulsoup4>=4.11.1->yfinance>=0.1.70->qiskit-finance) (2.7)\n",
            "Requirement already satisfied: cffi>=1.12.0 in /usr/local/lib/python3.11/dist-packages (from curl_cffi>=0.7->yfinance>=0.1.70->qiskit-finance) (1.17.1)\n",
            "Requirement already satisfied: charset-normalizer<4,>=2 in /usr/local/lib/python3.11/dist-packages (from requests>=2.31->yfinance>=0.1.70->qiskit-finance) (3.4.2)\n",
            "Requirement already satisfied: idna<4,>=2.5 in /usr/local/lib/python3.11/dist-packages (from requests>=2.31->yfinance>=0.1.70->qiskit-finance) (3.10)\n",
            "Requirement already satisfied: pbr>=2.0.0 in /usr/local/lib/python3.11/dist-packages (from stevedore>=3.0.0->qiskit>=0.45->qiskit-finance) (6.1.1)\n",
            "Requirement already satisfied: mpmath<1.4,>=1.1.0 in /usr/local/lib/python3.11/dist-packages (from sympy>=1.3->qiskit>=0.45->qiskit-finance) (1.3.0)\n",
            "Requirement already satisfied: pycparser in /usr/local/lib/python3.11/dist-packages (from cffi>=1.12.0->curl_cffi>=0.7->yfinance>=0.1.70->qiskit-finance) (2.22)\n",
            "Requirement already satisfied: qiskit-aer in /usr/local/lib/python3.11/dist-packages (0.17.1)\n",
            "Requirement already satisfied: qiskit>=1.1.0 in /usr/local/lib/python3.11/dist-packages (from qiskit-aer) (1.1.0)\n",
            "Requirement already satisfied: numpy>=1.16.3 in /usr/local/lib/python3.11/dist-packages (from qiskit-aer) (2.0.2)\n",
            "Requirement already satisfied: scipy>=1.0 in /usr/local/lib/python3.11/dist-packages (from qiskit-aer) (1.15.3)\n",
            "Requirement already satisfied: psutil>=5 in /usr/local/lib/python3.11/dist-packages (from qiskit-aer) (5.9.5)\n",
            "Requirement already satisfied: python-dateutil>=2.8.0 in /usr/local/lib/python3.11/dist-packages (from qiskit-aer) (2.9.0.post0)\n",
            "Requirement already satisfied: six>=1.5 in /usr/local/lib/python3.11/dist-packages (from python-dateutil>=2.8.0->qiskit-aer) (1.17.0)\n",
            "Requirement already satisfied: rustworkx>=0.14.0 in /usr/local/lib/python3.11/dist-packages (from qiskit>=1.1.0->qiskit-aer) (0.16.0)\n",
            "Requirement already satisfied: sympy>=1.3 in /usr/local/lib/python3.11/dist-packages (from qiskit>=1.1.0->qiskit-aer) (1.13.1)\n",
            "Requirement already satisfied: dill>=0.3 in /usr/local/lib/python3.11/dist-packages (from qiskit>=1.1.0->qiskit-aer) (0.3.7)\n",
            "Requirement already satisfied: stevedore>=3.0.0 in /usr/local/lib/python3.11/dist-packages (from qiskit>=1.1.0->qiskit-aer) (5.4.1)\n",
            "Requirement already satisfied: typing-extensions in /usr/local/lib/python3.11/dist-packages (from qiskit>=1.1.0->qiskit-aer) (4.14.0)\n",
            "Requirement already satisfied: symengine>=0.11 in /usr/local/lib/python3.11/dist-packages (from qiskit>=1.1.0->qiskit-aer) (0.13.0)\n",
            "Requirement already satisfied: pbr>=2.0.0 in /usr/local/lib/python3.11/dist-packages (from stevedore>=3.0.0->qiskit>=1.1.0->qiskit-aer) (6.1.1)\n",
            "Requirement already satisfied: mpmath<1.4,>=1.1.0 in /usr/local/lib/python3.11/dist-packages (from sympy>=1.3->qiskit>=1.1.0->qiskit-aer) (1.3.0)\n",
            "Requirement already satisfied: setuptools in /usr/local/lib/python3.11/dist-packages (from pbr>=2.0.0->stevedore>=3.0.0->qiskit>=1.1.0->qiskit-aer) (75.2.0)\n",
            "Requirement already satisfied: qiskit-algorithms in /usr/local/lib/python3.11/dist-packages (0.3.1)\n",
            "Requirement already satisfied: qiskit>=0.44 in /usr/local/lib/python3.11/dist-packages (from qiskit-algorithms) (1.1.0)\n",
            "Requirement already satisfied: scipy>=1.4 in /usr/local/lib/python3.11/dist-packages (from qiskit-algorithms) (1.15.3)\n",
            "Requirement already satisfied: numpy>=1.17 in /usr/local/lib/python3.11/dist-packages (from qiskit-algorithms) (2.0.2)\n",
            "Requirement already satisfied: rustworkx>=0.14.0 in /usr/local/lib/python3.11/dist-packages (from qiskit>=0.44->qiskit-algorithms) (0.16.0)\n",
            "Requirement already satisfied: sympy>=1.3 in /usr/local/lib/python3.11/dist-packages (from qiskit>=0.44->qiskit-algorithms) (1.13.1)\n",
            "Requirement already satisfied: dill>=0.3 in /usr/local/lib/python3.11/dist-packages (from qiskit>=0.44->qiskit-algorithms) (0.3.7)\n",
            "Requirement already satisfied: python-dateutil>=2.8.0 in /usr/local/lib/python3.11/dist-packages (from qiskit>=0.44->qiskit-algorithms) (2.9.0.post0)\n",
            "Requirement already satisfied: stevedore>=3.0.0 in /usr/local/lib/python3.11/dist-packages (from qiskit>=0.44->qiskit-algorithms) (5.4.1)\n",
            "Requirement already satisfied: typing-extensions in /usr/local/lib/python3.11/dist-packages (from qiskit>=0.44->qiskit-algorithms) (4.14.0)\n",
            "Requirement already satisfied: symengine>=0.11 in /usr/local/lib/python3.11/dist-packages (from qiskit>=0.44->qiskit-algorithms) (0.13.0)\n",
            "Requirement already satisfied: six>=1.5 in /usr/local/lib/python3.11/dist-packages (from python-dateutil>=2.8.0->qiskit>=0.44->qiskit-algorithms) (1.17.0)\n",
            "Requirement already satisfied: pbr>=2.0.0 in /usr/local/lib/python3.11/dist-packages (from stevedore>=3.0.0->qiskit>=0.44->qiskit-algorithms) (6.1.1)\n",
            "Requirement already satisfied: mpmath<1.4,>=1.1.0 in /usr/local/lib/python3.11/dist-packages (from sympy>=1.3->qiskit>=0.44->qiskit-algorithms) (1.3.0)\n",
            "Requirement already satisfied: setuptools in /usr/local/lib/python3.11/dist-packages (from pbr>=2.0.0->stevedore>=3.0.0->qiskit>=0.44->qiskit-algorithms) (75.2.0)\n"
          ]
        }
      ]
    },
    {
      "cell_type": "code",
      "execution_count": null,
      "metadata": {
        "id": "cpaHBvBsHBPr"
      },
      "outputs": [],
      "source": [
        "import numpy as np\n",
        "import matplotlib.pyplot as plt\n",
        "\n",
        "from qiskit import QuantumRegister, QuantumCircuit\n",
        "from qiskit.circuit.library import IntegerComparator\n",
        "from qiskit_algorithms import IterativeAmplitudeEstimation, EstimationProblem\n",
        "from qiskit_aer.primitives import Sampler"
      ]
    },
    {
      "cell_type": "markdown",
      "source": [
        "# Problem Definition"
      ],
      "metadata": {
        "id": "XIVeKwdULmyi"
      }
    },
    {
      "cell_type": "code",
      "source": [
        "n_z = 2\n",
        "z_max = 2\n",
        "z_values = np.linspace(-z_max, z_max, 2**n_z)\n",
        "p_zeros = [0.15, 0.25]\n",
        "rhos = [0.1, 0.05]\n",
        "lgd = [1, 2]\n",
        "K = len(p_zeros)\n",
        "alpha = 0.05"
      ],
      "metadata": {
        "id": "zQvqdDscHQ9r"
      },
      "execution_count": null,
      "outputs": []
    },
    {
      "cell_type": "markdown",
      "source": [
        "# Uncertainty Model\n"
      ],
      "metadata": {
        "id": "tYN4LOzrLdSc"
      }
    },
    {
      "cell_type": "code",
      "source": [
        "from qiskit_finance.circuit.library import GaussianConditionalIndependenceModel as GCI\n",
        "\n",
        "u = GCI(n_z, z_max, p_zeros, rhos)"
      ],
      "metadata": {
        "id": "7DFaxfOMLd2d"
      },
      "execution_count": null,
      "outputs": []
    },
    {
      "cell_type": "code",
      "source": [
        "u.draw()"
      ],
      "metadata": {
        "colab": {
          "base_uri": "https://localhost:8080/",
          "height": 155
        },
        "id": "Z87HBSX7XycK",
        "outputId": "aa5d8cad-f614-4eb3-8ca9-184befe861ec"
      },
      "execution_count": null,
      "outputs": [
        {
          "output_type": "execute_result",
          "data": {
            "text/plain": [
              "     ┌───────┐\n",
              "q_0: ┤0      ├\n",
              "     │       │\n",
              "q_1: ┤1      ├\n",
              "     │  P(X) │\n",
              "q_2: ┤2      ├\n",
              "     │       │\n",
              "q_3: ┤3      ├\n",
              "     └───────┘"
            ],
            "text/html": [
              "<pre style=\"word-wrap: normal;white-space: pre;background: #fff0;line-height: 1.1;font-family: &quot;Courier New&quot;,Courier,monospace\">     ┌───────┐\n",
              "q_0: ┤0      ├\n",
              "     │       │\n",
              "q_1: ┤1      ├\n",
              "     │  P(X) │\n",
              "q_2: ┤2      ├\n",
              "     │       │\n",
              "q_3: ┤3      ├\n",
              "     └───────┘</pre>"
            ]
          },
          "metadata": {},
          "execution_count": 6
        }
      ]
    },
    {
      "cell_type": "code",
      "source": [
        "u_measure = u.measure_all(inplace=False)\n",
        "sampler = Sampler()\n",
        "job = sampler.run(u_measure)\n",
        "binary_probabilities = job.result().quasi_dists[0].binary_probabilities()"
      ],
      "metadata": {
        "id": "4kVwS4viX199"
      },
      "execution_count": null,
      "outputs": []
    },
    {
      "cell_type": "code",
      "source": [
        "# analyze uncertainty circuit and determine exact solutions\n",
        "p_z = np.zeros(2**n_z)\n",
        "p_default = np.zeros(K)\n",
        "values = []\n",
        "probabilities = []\n",
        "num_qubits = u.num_qubits\n",
        "\n",
        "for i, prob in binary_probabilities.items():\n",
        "    # extract value of Z and corresponding probability\n",
        "    i_normal = int(i[-n_z:], 2)\n",
        "    p_z[i_normal] += prob\n",
        "\n",
        "    # determine overall default probability for k\n",
        "    loss = 0\n",
        "    for k in range(K):\n",
        "        if i[K - k - 1] == \"1\":\n",
        "            p_default[k] += prob\n",
        "            loss += lgd[k]\n",
        "\n",
        "    values += [loss]\n",
        "    probabilities += [prob]\n",
        "\n",
        "\n",
        "values = np.array(values)\n",
        "probabilities = np.array(probabilities)\n",
        "\n",
        "expected_loss = np.dot(values, probabilities)\n",
        "losses = np.sort(np.unique(values))\n",
        "pdf = np.zeros(len(losses))\n",
        "for i, v in enumerate(losses):\n",
        "    pdf[i] += sum(probabilities[values == v])\n",
        "cdf = np.cumsum(pdf)\n",
        "\n",
        "i_var = np.argmax(cdf >= 1 - alpha)\n",
        "exact_var = losses[i_var]\n",
        "exact_cvar = np.dot(pdf[(i_var + 1) :], losses[(i_var + 1) :]) / sum(pdf[(i_var + 1) :])"
      ],
      "metadata": {
        "colab": {
          "base_uri": "https://localhost:8080/"
        },
        "id": "XIgZR4nvds6U",
        "outputId": "af84cee1-81f0-4d62-e1f5-eace89a26869"
      },
      "execution_count": null,
      "outputs": [
        {
          "output_type": "stream",
          "name": "stderr",
          "text": [
            "<ipython-input-8-3771459203>:36: RuntimeWarning: invalid value encountered in scalar divide\n",
            "  exact_cvar = np.dot(pdf[(i_var + 1) :], losses[(i_var + 1) :]) / sum(pdf[(i_var + 1) :])\n"
          ]
        }
      ]
    },
    {
      "cell_type": "code",
      "source": [
        "print(\"Expected Loss E[L]:                %.4f\" % expected_loss)\n",
        "print(\"Value at Risk VaR[L]:              %.4f\" % exact_var)\n",
        "print(\"P[L <= VaR[L]]:                    %.4f\" % cdf[exact_var])\n",
        "print(\"Conditional Value at Risk CVaR[L]: %.4f\" % exact_cvar)"
      ],
      "metadata": {
        "colab": {
          "base_uri": "https://localhost:8080/"
        },
        "id": "r191qiZTXsXi",
        "outputId": "58224789-cd91-4c3f-a0f0-75eaf330806f"
      },
      "execution_count": null,
      "outputs": [
        {
          "output_type": "stream",
          "name": "stdout",
          "text": [
            "Expected Loss E[L]:                0.6641\n",
            "Value at Risk VaR[L]:              3.0000\n",
            "P[L <= VaR[L]]:                    1.0000\n",
            "Conditional Value at Risk CVaR[L]: nan\n"
          ]
        }
      ]
    },
    {
      "cell_type": "code",
      "source": [
        "# plot loss PDF, expected loss, var, and cvar\n",
        "plt.bar(losses, pdf)\n",
        "plt.axvline(expected_loss, color=\"green\", linestyle=\"--\", label=\"E[L]\")\n",
        "plt.axvline(exact_var, color=\"orange\", linestyle=\"--\", label=\"VaR(L)\")\n",
        "plt.axvline(exact_cvar, color=\"red\", linestyle=\"--\", label=\"CVaR(L)\")\n",
        "plt.legend(fontsize=15)\n",
        "plt.xlabel(\"Loss L ($)\", size=15)\n",
        "plt.ylabel(\"probability (%)\", size=15)\n",
        "plt.title(\"Loss Distribution\", size=20)\n",
        "plt.xticks(size=15)\n",
        "plt.yticks(size=15)\n",
        "plt.show()"
      ],
      "metadata": {
        "colab": {
          "base_uri": "https://localhost:8080/",
          "height": 492
        },
        "id": "ZNSrpyrZd0et",
        "outputId": "2496ba90-56bb-4353-8fa1-3a0e3e7b3fc6"
      },
      "execution_count": null,
      "outputs": [
        {
          "output_type": "display_data",
          "data": {
            "text/plain": [
              "<Figure size 640x480 with 1 Axes>"
            ],
            "image/png": "[encoded data removed]"
          },
          "metadata": {}
        }
      ]
    },
    {
      "cell_type": "code",
      "source": [
        "# plot results for Z\n",
        "plt.plot(z_values, p_z, \"o-\", linewidth=3, markersize=8)\n",
        "plt.grid()\n",
        "plt.xlabel(\"Z value\", size=15)\n",
        "plt.ylabel(\"probability (%)\", size=15)\n",
        "plt.title(\"Z Distribution\", size=20)\n",
        "plt.xticks(size=15)\n",
        "plt.yticks(size=15)\n",
        "plt.show()"
      ],
      "metadata": {
        "colab": {
          "base_uri": "https://localhost:8080/",
          "height": 492
        },
        "id": "Kq9sgwSKemwD",
        "outputId": "18f57cb8-afe6-493c-e000-82dadf044601"
      },
      "execution_count": null,
      "outputs": [
        {
          "output_type": "display_data",
          "data": {
            "text/plain": [
              "<Figure size 640x480 with 1 Axes>"
            ],
            "image/png": "[encoded data removed]"
          },
          "metadata": {}
        }
      ]
    },
    {
      "cell_type": "markdown",
      "source": [
        "# Expected Loss"
      ],
      "metadata": {
        "id": "RLU8RYDJgvd4"
      }
    },
    {
      "cell_type": "code",
      "source": [
        "# add Z qubits with weight/loss 0\n",
        "from qiskit.circuit.library import WeightedAdder\n",
        "\n",
        "agg = WeightedAdder(n_z + K, [0] * n_z + lgd)"
      ],
      "metadata": {
        "id": "gE0mfppseqHJ"
      },
      "execution_count": null,
      "outputs": []
    },
    {
      "cell_type": "code",
      "source": [
        "from qiskit.circuit.library import LinearAmplitudeFunction\n",
        "\n",
        "# define linear objective function\n",
        "breakpoints = [0]\n",
        "slopes = [1]\n",
        "offsets = [0]\n",
        "f_min = 0\n",
        "f_max = sum(lgd)\n",
        "c_approx = 0.25\n",
        "\n",
        "objective = LinearAmplitudeFunction(\n",
        "    agg.num_sum_qubits,\n",
        "    slope=slopes,\n",
        "    offset=offsets,\n",
        "    # max value that can be reached by the qubit register (will not always be reached)\n",
        "    domain=(0, 2**agg.num_sum_qubits - 1),\n",
        "    image=(f_min, f_max),\n",
        "    rescaling_factor=c_approx,\n",
        "    breakpoints=breakpoints,\n",
        ")"
      ],
      "metadata": {
        "id": "o8L1i0AHg3DW"
      },
      "execution_count": null,
      "outputs": []
    },
    {
      "cell_type": "code",
      "source": [
        "# define the registers for convenience and readability\n",
        "qr_state = QuantumRegister(u.num_qubits, \"state\")\n",
        "qr_sum = QuantumRegister(agg.num_sum_qubits, \"sum\")\n",
        "qr_carry = QuantumRegister(agg.num_carry_qubits, \"carry\")\n",
        "qr_obj = QuantumRegister(1, \"objective\")\n",
        "\n",
        "# define the circuit\n",
        "state_preparation = QuantumCircuit(qr_state, qr_obj, qr_sum, qr_carry, name=\"A\")\n",
        "\n",
        "# load the random variable\n",
        "state_preparation.append(u.to_gate(), qr_state)\n",
        "\n",
        "# aggregate\n",
        "state_preparation.append(agg.to_gate(), qr_state[:] + qr_sum[:] + qr_carry[:])\n",
        "\n",
        "# linear objective function\n",
        "state_preparation.append(objective.to_gate(), qr_sum[:] + qr_obj[:])\n",
        "\n",
        "# uncompute aggregation\n",
        "state_preparation.append(agg.to_gate().inverse(), qr_state[:] + qr_sum[:] + qr_carry[:])\n",
        "\n",
        "# draw the circuit\n",
        "state_preparation.draw()"
      ],
      "metadata": {
        "colab": {
          "base_uri": "https://localhost:8080/",
          "height": 278
        },
        "id": "HADQXNqxg3pk",
        "outputId": "251d394e-3577-412d-cf3e-f2b6777a4d17"
      },
      "execution_count": null,
      "outputs": [
        {
          "output_type": "execute_result",
          "data": {
            "text/plain": [
              "           ┌───────┐┌────────┐      ┌───────────┐\n",
              "  state_0: ┤0      ├┤0       ├──────┤0          ├\n",
              "           │       ││        │      │           │\n",
              "  state_1: ┤1      ├┤1       ├──────┤1          ├\n",
              "           │  P(X) ││        │      │           │\n",
              "  state_2: ┤2      ├┤2       ├──────┤2          ├\n",
              "           │       ││        │      │           │\n",
              "  state_3: ┤3      ├┤3       ├──────┤3          ├\n",
              "           └───────┘│  adder │┌────┐│  adder_dg │\n",
              "objective: ─────────┤        ├┤2   ├┤           ├\n",
              "                    │        ││    ││           │\n",
              "    sum_0: ─────────┤4       ├┤0 F ├┤4          ├\n",
              "                    │        ││    ││           │\n",
              "    sum_1: ─────────┤5       ├┤1   ├┤5          ├\n",
              "                    │        │└────┘│           │\n",
              "    carry: ─────────┤6       ├──────┤6          ├\n",
              "                    └────────┘      └───────────┘"
            ],
            "text/html": [
              "<pre style=\"word-wrap: normal;white-space: pre;background: #fff0;line-height: 1.1;font-family: &quot;Courier New&quot;,Courier,monospace\">           ┌───────┐┌────────┐      ┌───────────┐\n",
              "  state_0: ┤0      ├┤0       ├──────┤0          ├\n",
              "           │       ││        │      │           │\n",
              "  state_1: ┤1      ├┤1       ├──────┤1          ├\n",
              "           │  P(X) ││        │      │           │\n",
              "  state_2: ┤2      ├┤2       ├──────┤2          ├\n",
              "           │       ││        │      │           │\n",
              "  state_3: ┤3      ├┤3       ├──────┤3          ├\n",
              "           └───────┘│  adder │┌────┐│  adder_dg │\n",
              "objective: ─────────┤        ├┤2   ├┤           ├\n",
              "                    │        ││    ││           │\n",
              "    sum_0: ─────────┤4       ├┤0 F ├┤4          ├\n",
              "                    │        ││    ││           │\n",
              "    sum_1: ─────────┤5       ├┤1   ├┤5          ├\n",
              "                    │        │└────┘│           │\n",
              "    carry: ─────────┤6       ├──────┤6          ├\n",
              "                    └────────┘      └───────────┘</pre>"
            ]
          },
          "metadata": {},
          "execution_count": 15
        }
      ]
    },
    {
      "cell_type": "code",
      "source": [
        "state_preparation_measure = state_preparation.measure_all(inplace=False)\n",
        "sampler = Sampler()\n",
        "job = sampler.run(state_preparation_measure)\n",
        "binary_probabilities = job.result().quasi_dists[0].binary_probabilities()"
      ],
      "metadata": {
        "id": "g7k_Mx1ehW0_"
      },
      "execution_count": null,
      "outputs": []
    },
    {
      "cell_type": "code",
      "source": [
        "# evaluate the result\n",
        "value = 0\n",
        "for i, prob in binary_probabilities.items():\n",
        "    if prob > 1e-6 and i[-(len(qr_state) + 1) :][0] == \"1\":\n",
        "        value += prob\n",
        "\n",
        "print(\"Exact Expected Loss:   %.4f\" % expected_loss)\n",
        "print(\"Exact Operator Value:  %.4f\" % value)\n",
        "print(\"Mapped Operator value: %.4f\" % objective.post_processing(value))"
      ],
      "metadata": {
        "colab": {
          "base_uri": "https://localhost:8080/"
        },
        "id": "ROrAvH3EhaFL",
        "outputId": "a53b0bfb-297f-43af-d999-2aeb0d12a2e4"
      },
      "execution_count": null,
      "outputs": [
        {
          "output_type": "stream",
          "name": "stdout",
          "text": [
            "Exact Expected Loss:   0.6641\n",
            "Exact Operator Value:  0.3828\n",
            "Mapped Operator value: 0.6048\n"
          ]
        }
      ]
    },
    {
      "cell_type": "markdown",
      "source": [
        "# Cumulative Distribution Function"
      ],
      "metadata": {
        "id": "uras-HN9h7WJ"
      }
    },
    {
      "cell_type": "code",
      "source": [
        "# set x value to estimate the CDF\n",
        "x_eval = 2\n",
        "\n",
        "comparator = IntegerComparator(agg.num_sum_qubits, x_eval + 1, geq=False)\n",
        "comparator.draw()"
      ],
      "metadata": {
        "colab": {
          "base_uri": "https://localhost:8080/",
          "height": 155
        },
        "id": "rTkw7FvNhc4Y",
        "outputId": "ad8d85b7-95e0-4f9c-f948-9ff22fc2084b"
      },
      "execution_count": null,
      "outputs": [
        {
          "output_type": "execute_result",
          "data": {
            "text/plain": [
              "         ┌──────┐\n",
              "state_0: ┤0     ├\n",
              "         │      │\n",
              "state_1: ┤1     ├\n",
              "         │  cmp │\n",
              "compare: ┤2     ├\n",
              "         │      │\n",
              "     a0: ┤3     ├\n",
              "         └──────┘"
            ],
            "text/html": [
              "<pre style=\"word-wrap: normal;white-space: pre;background: #fff0;line-height: 1.1;font-family: &quot;Courier New&quot;,Courier,monospace\">         ┌──────┐\n",
              "state_0: ┤0     ├\n",
              "         │      │\n",
              "state_1: ┤1     ├\n",
              "         │  cmp │\n",
              "compare: ┤2     ├\n",
              "         │      │\n",
              "     a0: ┤3     ├\n",
              "         └──────┘</pre>"
            ]
          },
          "metadata": {},
          "execution_count": 19
        }
      ]
    },
    {
      "cell_type": "code",
      "source": [
        "def get_cdf_circuit(x_eval):\n",
        "    # define the registers for convenience and readability\n",
        "    qr_state = QuantumRegister(u.num_qubits, \"state\")\n",
        "    qr_sum = QuantumRegister(agg.num_sum_qubits, \"sum\")\n",
        "    qr_carry = QuantumRegister(agg.num_carry_qubits, \"carry\")\n",
        "    qr_obj = QuantumRegister(1, \"objective\")\n",
        "    qr_compare = QuantumRegister(1, \"compare\")\n",
        "\n",
        "    # define the circuit\n",
        "    state_preparation = QuantumCircuit(qr_state, qr_obj, qr_sum, qr_carry, name=\"A\")\n",
        "\n",
        "    # load the random variable\n",
        "    state_preparation.append(u, qr_state)\n",
        "\n",
        "    # aggregate\n",
        "    state_preparation.append(agg, qr_state[:] + qr_sum[:] + qr_carry[:])\n",
        "\n",
        "    # comparator objective function\n",
        "    comparator = IntegerComparator(agg.num_sum_qubits, x_eval + 1, geq=False)\n",
        "    state_preparation.append(comparator, qr_sum[:] + qr_obj[:] + qr_carry[:])\n",
        "\n",
        "    # uncompute aggregation\n",
        "    state_preparation.append(agg.inverse(), qr_state[:] + qr_sum[:] + qr_carry[:])\n",
        "\n",
        "    return state_preparation\n",
        "\n",
        "\n",
        "state_preparation = get_cdf_circuit(x_eval)"
      ],
      "metadata": {
        "id": "nn4IDOBXh6f1"
      },
      "execution_count": null,
      "outputs": []
    },
    {
      "cell_type": "code",
      "source": [
        "state_preparation.draw()"
      ],
      "metadata": {
        "colab": {
          "base_uri": "https://localhost:8080/",
          "height": 278
        },
        "id": "pw7ZHioBiXQp",
        "outputId": "831e744f-f1e3-4638-c70e-55f9252d4598"
      },
      "execution_count": null,
      "outputs": [
        {
          "output_type": "execute_result",
          "data": {
            "text/plain": [
              "           ┌───────┐┌────────┐        ┌───────────┐\n",
              "  state_0: ┤0      ├┤0       ├────────┤0          ├\n",
              "           │       ││        │        │           │\n",
              "  state_1: ┤1      ├┤1       ├────────┤1          ├\n",
              "           │  P(X) ││        │        │           │\n",
              "  state_2: ┤2      ├┤2       ├────────┤2          ├\n",
              "           │       ││        │        │           │\n",
              "  state_3: ┤3      ├┤3       ├────────┤3          ├\n",
              "           └───────┘│  adder │┌──────┐│  adder_dg │\n",
              "objective: ─────────┤        ├┤2     ├┤           ├\n",
              "                    │        ││      ││           │\n",
              "    sum_0: ─────────┤4       ├┤0     ├┤4          ├\n",
              "                    │        ││  cmp ││           │\n",
              "    sum_1: ─────────┤5       ├┤1     ├┤5          ├\n",
              "                    │        ││      ││           │\n",
              "    carry: ─────────┤6       ├┤3     ├┤6          ├\n",
              "                    └────────┘└──────┘└───────────┘"
            ],
            "text/html": [
              "<pre style=\"word-wrap: normal;white-space: pre;background: #fff0;line-height: 1.1;font-family: &quot;Courier New&quot;,Courier,monospace\">           ┌───────┐┌────────┐        ┌───────────┐\n",
              "  state_0: ┤0      ├┤0       ├────────┤0          ├\n",
              "           │       ││        │        │           │\n",
              "  state_1: ┤1      ├┤1       ├────────┤1          ├\n",
              "           │  P(X) ││        │        │           │\n",
              "  state_2: ┤2      ├┤2       ├────────┤2          ├\n",
              "           │       ││        │        │           │\n",
              "  state_3: ┤3      ├┤3       ├────────┤3          ├\n",
              "           └───────┘│  adder │┌──────┐│  adder_dg │\n",
              "objective: ─────────┤        ├┤2     ├┤           ├\n",
              "                    │        ││      ││           │\n",
              "    sum_0: ─────────┤4       ├┤0     ├┤4          ├\n",
              "                    │        ││  cmp ││           │\n",
              "    sum_1: ─────────┤5       ├┤1     ├┤5          ├\n",
              "                    │        ││      ││           │\n",
              "    carry: ─────────┤6       ├┤3     ├┤6          ├\n",
              "                    └────────┘└──────┘└───────────┘</pre>"
            ]
          },
          "metadata": {},
          "execution_count": 21
        }
      ]
    },
    {
      "cell_type": "code",
      "source": [
        "state_preparation_measure = state_preparation.measure_all(inplace=False)\n",
        "sampler = Sampler()\n",
        "job = sampler.run(state_preparation_measure)\n",
        "binary_probabilities = job.result().quasi_dists[0].binary_probabilities()"
      ],
      "metadata": {
        "id": "RRmWFH9XkqW7"
      },
      "execution_count": null,
      "outputs": []
    },
    {
      "cell_type": "code",
      "source": [
        "# evaluate the result\n",
        "var_prob = 0\n",
        "for i, prob in binary_probabilities.items():\n",
        "    if prob > 1e-6 and i[-(len(qr_state) + 1) :][0] == \"1\":\n",
        "        var_prob += prob\n",
        "\n",
        "print(\"Operator CDF(%s)\" % x_eval + \" = %.4f\" % var_prob)\n",
        "print(\"Exact    CDF(%s)\" % x_eval + \" = %.4f\" % cdf[x_eval])"
      ],
      "metadata": {
        "colab": {
          "base_uri": "https://localhost:8080/"
        },
        "id": "tPi2jTV3kqsZ",
        "outputId": "63da01c5-9251-4c9d-b64d-c676f30a1609"
      },
      "execution_count": null,
      "outputs": [
        {
          "output_type": "stream",
          "name": "stdout",
          "text": [
            "Operator CDF(2) = 0.9541\n",
            "Exact    CDF(2) = 0.9492\n"
          ]
        }
      ]
    },
    {
      "cell_type": "code",
      "source": [
        "# set target precision and confidence level\n",
        "epsilon = 0.01\n",
        "alpha = 0.05\n",
        "\n",
        "problem = EstimationProblem(state_preparation=state_preparation, objective_qubits=[len(qr_state)])\n",
        "# construct amplitude estimation\n",
        "ae_cdf = IterativeAmplitudeEstimation(\n",
        "    epsilon_target=epsilon, alpha=alpha, sampler=Sampler(run_options={\"shots\": 100, \"seed\": 75})\n",
        ")\n",
        "result_cdf = ae_cdf.estimate(problem)\n",
        "\n",
        "# print results\n",
        "conf_int = np.array(result_cdf.confidence_interval)\n",
        "print(\"Exact value:    \\t%.4f\" % cdf[x_eval])\n",
        "print(\"Estimated value:\\t%.4f\" % result_cdf.estimation)\n",
        "print(\"Confidence interval: \\t[%.4f, %.4f]\" % tuple(conf_int))"
      ],
      "metadata": {
        "colab": {
          "base_uri": "https://localhost:8080/"
        },
        "id": "19vB9RuoktVT",
        "outputId": "2c4d29c9-24aa-4f97-d1e8-752f4a2416b4"
      },
      "execution_count": null,
      "outputs": [
        {
          "output_type": "stream",
          "name": "stdout",
          "text": [
            "Exact value:    \t0.9492\n",
            "Estimated value:\t0.9590\n",
            "Confidence interval: \t[0.9577, 0.9603]\n"
          ]
        }
      ]
    },
    {
      "cell_type": "markdown",
      "source": [
        "# Value at risk"
      ],
      "metadata": {
        "id": "G0OjAkMpkywK"
      }
    },
    {
      "cell_type": "code",
      "source": [
        "def run_ae_for_cdf(x_eval, epsilon=0.01, alpha=0.05):\n",
        "\n",
        "    # construct amplitude estimation\n",
        "    state_preparation = get_cdf_circuit(x_eval)\n",
        "    problem = EstimationProblem(\n",
        "        state_preparation=state_preparation, objective_qubits=[len(qr_state)]\n",
        "    )\n",
        "    ae_var = IterativeAmplitudeEstimation(\n",
        "        epsilon_target=epsilon, alpha=alpha, sampler=Sampler(run_options={\"shots\": 100, \"seed\": 75})\n",
        "    )\n",
        "    result_var = ae_var.estimate(problem)\n",
        "\n",
        "    return result_var.estimation"
      ],
      "metadata": {
        "id": "DeQIWj3nkv90"
      },
      "execution_count": null,
      "outputs": []
    },
    {
      "cell_type": "code",
      "source": [
        "def bisection_search(\n",
        "    objective, target_value, low_level, high_level, low_value=None, high_value=None\n",
        "):\n",
        "    \"\"\"\n",
        "    Determines the smallest level such that the objective value is still larger than the target\n",
        "    :param objective: objective function\n",
        "    :param target: target value\n",
        "    :param low_level: lowest level to be considered\n",
        "    :param high_level: highest level to be considered\n",
        "    :param low_value: value of lowest level (will be evaluated if set to None)\n",
        "    :param high_value: value of highest level (will be evaluated if set to None)\n",
        "    :return: dictionary with level, value, num_eval\n",
        "    \"\"\"\n",
        "\n",
        "    # check whether low and high values are given and evaluated them otherwise\n",
        "    print(\"--------------------------------------------------------------------\")\n",
        "    print(\"start bisection search for target value %.3f\" % target_value)\n",
        "    print(\"--------------------------------------------------------------------\")\n",
        "    num_eval = 0\n",
        "    if low_value is None:\n",
        "        low_value = objective(low_level)\n",
        "        num_eval += 1\n",
        "    if high_value is None:\n",
        "        high_value = objective(high_level)\n",
        "        num_eval += 1\n",
        "\n",
        "    # check if low_value already satisfies the condition\n",
        "    if low_value > target_value:\n",
        "        return {\n",
        "            \"level\": low_level,\n",
        "            \"value\": low_value,\n",
        "            \"num_eval\": num_eval,\n",
        "            \"comment\": \"returned low value\",\n",
        "        }\n",
        "    elif low_value == target_value:\n",
        "        return {\"level\": low_level, \"value\": low_value, \"num_eval\": num_eval, \"comment\": \"success\"}\n",
        "\n",
        "    # check if high_value is above target\n",
        "    if high_value < target_value:\n",
        "        return {\n",
        "            \"level\": high_level,\n",
        "            \"value\": high_value,\n",
        "            \"num_eval\": num_eval,\n",
        "            \"comment\": \"returned low value\",\n",
        "        }\n",
        "    elif high_value == target_value:\n",
        "        return {\n",
        "            \"level\": high_level,\n",
        "            \"value\": high_value,\n",
        "            \"num_eval\": num_eval,\n",
        "            \"comment\": \"success\",\n",
        "        }\n",
        "\n",
        "    # perform bisection search until\n",
        "    print(\"low_level    low_value    level    value    high_level    high_value\")\n",
        "    print(\"--------------------------------------------------------------------\")\n",
        "    while high_level - low_level > 1:\n",
        "\n",
        "        level = int(np.round((high_level + low_level) / 2.0))\n",
        "        num_eval += 1\n",
        "        value = objective(level)\n",
        "\n",
        "        print(\n",
        "            \"%2d           %.3f        %2d       %.3f    %2d            %.3f\"\n",
        "            % (low_level, low_value, level, value, high_level, high_value)\n",
        "        )\n",
        "\n",
        "        if value >= target_value:\n",
        "            high_level = level\n",
        "            high_value = value\n",
        "        else:\n",
        "            low_level = level\n",
        "            low_value = value\n",
        "\n",
        "    # return high value after bisection search\n",
        "    print(\"--------------------------------------------------------------------\")\n",
        "    print(\"finished bisection search\")\n",
        "    print(\"--------------------------------------------------------------------\")\n",
        "    return {\"level\": high_level, \"value\": high_value, \"num_eval\": num_eval, \"comment\": \"success\"}"
      ],
      "metadata": {
        "id": "uijEFogGk0iq"
      },
      "execution_count": null,
      "outputs": []
    },
    {
      "cell_type": "code",
      "source": [
        "# run bisection search to determine VaR\n",
        "objective = lambda x: run_ae_for_cdf(x)\n",
        "bisection_result = bisection_search(\n",
        "    objective, 1 - alpha, min(losses) - 1, max(losses), low_value=0, high_value=1\n",
        ")\n",
        "var = bisection_result[\"level\"]"
      ],
      "metadata": {
        "colab": {
          "base_uri": "https://localhost:8080/"
        },
        "id": "8hiPFg31k4zy",
        "outputId": "e3d6d476-02dd-47ec-9648-629d22a566c7"
      },
      "execution_count": null,
      "outputs": [
        {
          "output_type": "stream",
          "name": "stdout",
          "text": [
            "--------------------------------------------------------------------\n",
            "start bisection search for target value 0.950\n",
            "--------------------------------------------------------------------\n",
            "low_level    low_value    level    value    high_level    high_value\n",
            "--------------------------------------------------------------------\n"
          ]
        },
        {
          "output_type": "stream",
          "name": "stderr",
          "text": [
            "<ipython-input-27-2688760982>:2: DeprecationWarning: Sampler has been deprecated as of Aer 0.15, please use SamplerV2 instead.\n",
            "  objective = lambda x: run_ae_for_cdf(x)\n"
          ]
        },
        {
          "output_type": "stream",
          "name": "stdout",
          "text": [
            "-1           0.000         1       0.752     3            1.000\n",
            " 1           0.752         2       0.959     3            1.000\n",
            "--------------------------------------------------------------------\n",
            "finished bisection search\n",
            "--------------------------------------------------------------------\n"
          ]
        }
      ]
    },
    {
      "cell_type": "code",
      "source": [
        "print(\"Estimated Value at Risk: %2d\" % var)\n",
        "print(\"Exact Value at Risk:     %2d\" % exact_var)\n",
        "print(\"Estimated Probability:    %.3f\" % bisection_result[\"value\"])\n",
        "print(\"Exact Probability:        %.3f\" % cdf[exact_var])"
      ],
      "metadata": {
        "colab": {
          "base_uri": "https://localhost:8080/"
        },
        "id": "iUnX8bc9k83n",
        "outputId": "a490e92a-25ba-49e7-b334-880532d755ab"
      },
      "execution_count": null,
      "outputs": [
        {
          "output_type": "stream",
          "name": "stdout",
          "text": [
            "Estimated Value at Risk:  2\n",
            "Exact Value at Risk:      3\n",
            "Estimated Probability:    0.959\n",
            "Exact Probability:        1.000\n"
          ]
        }
      ]
    },
    {
      "cell_type": "markdown",
      "source": [
        "# Conditional Risk"
      ],
      "metadata": {
        "id": "pZi-nEJ8lBcF"
      }
    },
    {
      "cell_type": "code",
      "source": [
        "# define linear objective\n",
        "breakpoints = [0, var]\n",
        "slopes = [0, 1]\n",
        "offsets = [0, 0]  # subtract VaR and add it later to the estimate\n",
        "f_min = 0\n",
        "f_max = 3 - var\n",
        "c_approx = 0.25\n",
        "\n",
        "cvar_objective = LinearAmplitudeFunction(\n",
        "    agg.num_sum_qubits,\n",
        "    slopes,\n",
        "    offsets,\n",
        "    domain=(0, 2**agg.num_sum_qubits - 1),\n",
        "    image=(f_min, f_max),\n",
        "    rescaling_factor=c_approx,\n",
        "    breakpoints=breakpoints,\n",
        ")\n",
        "\n",
        "cvar_objective.draw()"
      ],
      "metadata": {
        "colab": {
          "base_uri": "https://localhost:8080/",
          "height": 186
        },
        "id": "3Cwq2HeilA5D",
        "outputId": "17048f3d-6ba5-490e-f7a9-6ab9338b47ce"
      },
      "execution_count": null,
      "outputs": [
        {
          "output_type": "execute_result",
          "data": {
            "text/plain": [
              "        ┌────┐\n",
              "q136_0: ┤0   ├\n",
              "        │    │\n",
              "q136_1: ┤1   ├\n",
              "        │    │\n",
              "  q137: ┤2 F ├\n",
              "        │    │\n",
              " a68_0: ┤3   ├\n",
              "        │    │\n",
              " a68_1: ┤4   ├\n",
              "        └────┘"
            ],
            "text/html": [
              "<pre style=\"word-wrap: normal;white-space: pre;background: #fff0;line-height: 1.1;font-family: &quot;Courier New&quot;,Courier,monospace\">        ┌────┐\n",
              "q136_0: ┤0   ├\n",
              "        │    │\n",
              "q136_1: ┤1   ├\n",
              "        │    │\n",
              "  q137: ┤2 F ├\n",
              "        │    │\n",
              " a68_0: ┤3   ├\n",
              "        │    │\n",
              " a68_1: ┤4   ├\n",
              "        └────┘</pre>"
            ]
          },
          "metadata": {},
          "execution_count": 29
        }
      ]
    },
    {
      "cell_type": "code",
      "source": [
        "# define the registers for convenience and readability\n",
        "qr_state = QuantumRegister(u.num_qubits, \"state\")\n",
        "qr_sum = QuantumRegister(agg.num_sum_qubits, \"sum\")\n",
        "qr_carry = QuantumRegister(agg.num_carry_qubits, \"carry\")\n",
        "qr_obj = QuantumRegister(1, \"objective\")\n",
        "qr_work = QuantumRegister(cvar_objective.num_ancillas - len(qr_carry), \"work\")\n",
        "\n",
        "# define the circuit\n",
        "state_preparation = QuantumCircuit(qr_state, qr_obj, qr_sum, qr_carry, qr_work, name=\"A\")\n",
        "\n",
        "# load the random variable\n",
        "state_preparation.append(u, qr_state)\n",
        "\n",
        "# aggregate\n",
        "state_preparation.append(agg, qr_state[:] + qr_sum[:] + qr_carry[:])\n",
        "\n",
        "# linear objective function\n",
        "state_preparation.append(cvar_objective, qr_sum[:] + qr_obj[:] + qr_carry[:] + qr_work[:])\n",
        "\n",
        "# uncompute aggregation\n",
        "state_preparation.append(agg.inverse(), qr_state[:] + qr_sum[:] + qr_carry[:])"
      ],
      "metadata": {
        "colab": {
          "base_uri": "https://localhost:8080/"
        },
        "id": "hf-I5OIHlGVU",
        "outputId": "9c55a723-984a-486f-c370-18362fd15b99"
      },
      "execution_count": null,
      "outputs": [
        {
          "output_type": "execute_result",
          "data": {
            "text/plain": [
              "<qiskit.circuit.instructionset.InstructionSet at 0x78088ea66530>"
            ]
          },
          "metadata": {},
          "execution_count": 30
        }
      ]
    },
    {
      "cell_type": "code",
      "source": [
        "state_preparation_measure = state_preparation.measure_all(inplace=False)\n",
        "sampler = Sampler()\n",
        "job = sampler.run(state_preparation_measure)\n",
        "binary_probabilities = job.result().quasi_dists[0].binary_probabilities()"
      ],
      "metadata": {
        "id": "fRtGgDCBlI7k"
      },
      "execution_count": null,
      "outputs": []
    },
    {
      "cell_type": "code",
      "source": [
        "# evaluate the result\n",
        "value = 0\n",
        "for i, prob in binary_probabilities.items():\n",
        "    if prob > 1e-6 and i[-(len(qr_state) + 1)] == \"1\":\n",
        "        value += prob\n",
        "\n",
        "# normalize and add VaR to estimate\n",
        "value = cvar_objective.post_processing(value)\n",
        "d = 1.0 - bisection_result[\"value\"]\n",
        "v = value / d if d != 0 else 0\n",
        "normalized_value = v + var\n",
        "print(\"Estimated CVaR: %.4f\" % normalized_value)\n",
        "print(\"Exact CVaR:     %.4f\" % exact_cvar)"
      ],
      "metadata": {
        "colab": {
          "base_uri": "https://localhost:8080/"
        },
        "id": "YrbQHcGklLiC",
        "outputId": "cfd5772e-d47b-4b4e-e16f-f59bafb3ebb2"
      },
      "execution_count": null,
      "outputs": [
        {
          "output_type": "stream",
          "name": "stdout",
          "text": [
            "Estimated CVaR: 3.2768\n",
            "Exact CVaR:     nan\n"
          ]
        }
      ]
    },
    {
      "cell_type": "code",
      "source": [
        "# set target precision and confidence level\n",
        "epsilon = 0.01\n",
        "alpha = 0.05\n",
        "\n",
        "problem = EstimationProblem(\n",
        "    state_preparation=state_preparation,\n",
        "    objective_qubits=[len(qr_state)],\n",
        "    post_processing=cvar_objective.post_processing,\n",
        ")\n",
        "# construct amplitude estimation\n",
        "ae_cvar = IterativeAmplitudeEstimation(\n",
        "    epsilon_target=epsilon, alpha=alpha, sampler=Sampler(run_options={\"shots\": 100, \"seed\": 75})\n",
        ")\n",
        "result_cvar = ae_cvar.estimate(problem)"
      ],
      "metadata": {
        "id": "LuVkUQoXlNOA"
      },
      "execution_count": null,
      "outputs": []
    },
    {
      "cell_type": "code",
      "source": [
        "# print results\n",
        "d = 1.0 - bisection_result[\"value\"]\n",
        "v = result_cvar.estimation_processed / d if d != 0 else 0\n",
        "print(\"Exact CVaR:    \\t%.4f\" % exact_cvar)\n",
        "print(\"Estimated CVaR:\\t%.4f\" % (v + var))"
      ],
      "metadata": {
        "colab": {
          "base_uri": "https://localhost:8080/"
        },
        "id": "MkTcpRfalQdH",
        "outputId": "cada6850-193a-4c95-8f84-a2628311b47a"
      },
      "execution_count": null,
      "outputs": [
        {
          "output_type": "stream",
          "name": "stdout",
          "text": [
            "Exact CVaR:    \tnan\n",
            "Estimated CVaR:\t3.3316\n"
          ]
        }
      ]
    }
  ]
}